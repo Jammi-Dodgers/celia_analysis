{
 "cells": [
  {
   "cell_type": "code",
   "execution_count": 160,
   "metadata": {},
   "outputs": [],
   "source": [
    "######### MODULES ##########\n",
    "import sys, os, re\n",
    "import numpy as np\n",
    "import matplotlib.pyplot as plt\n",
    "from PIL import Image"
   ]
  },
  {
   "cell_type": "code",
   "execution_count": 161,
   "metadata": {},
   "outputs": [
    {
     "name": "stdout",
     "output_type": "stream",
     "text": [
      "Car color: blue\n"
     ]
    }
   ],
   "source": [
    "#openai's example\n",
    "import re\n",
    "\n",
    "# Example usage with capturing groups in alternation:\n",
    "input_string = \"The color of the car is either blue.\"\n",
    "match = re.search(r'The color of the car is either (red|blue)\\.', input_string)\n",
    "\n",
    "if match:\n",
    "    color = match.group(1)\n",
    "    print(\"Car color:\", color)\n",
    "else:\n",
    "    print(\"No match found.\")"
   ]
  },
  {
   "cell_type": "code",
   "execution_count": 162,
   "metadata": {},
   "outputs": [
    {
     "data": {
      "text/plain": [
       "[13, 14, 8]"
      ]
     },
     "execution_count": 162,
     "metadata": {},
     "output_type": "execute_result"
    }
   ],
   "source": [
    "relitive_path = \"data\\\\\"\n",
    "file_names = os.listdir(relitive_path) # lists out the names of all files in the working directory\n",
    "shots= [\"8\",\"13\",\"14\",\"37\",\"39\"]\n",
    "\n",
    "filtered_file_names = [file_name for file_name in file_names if len(re.findall(\".*SHOT(\"+'|'.join(shots)+\")[^0-9]*[0-9]{3}[^0-9].*Ch1.csv\", file_name))]\n",
    "shot_no = [int(re.search(\".*SHOT(\"+'|'.join(shots)+\")[^0-9]*[0-9]{3}[^0-9].*Ch1.csv\", filtered_file_name).group(1)) for filtered_file_name in filtered_file_names]\n",
    "\n",
    "shot_no"
   ]
  },
  {
   "cell_type": "code",
   "execution_count": 163,
   "metadata": {},
   "outputs": [],
   "source": [
    "######## FUNCTIONS #########\n",
    "\n",
    "def read_data(shot, silent= False):\n",
    "    ###FIND MATCHING FILE NAMES\n",
    "    relitive_path = \"data\\\\\"\n",
    "    file_names = os.listdir(relitive_path) # lists out the names of all files in the working directory\n",
    "    kirills_file_names = [file_name for file_name in file_names if len(re.findall(\".*SHOT\"+ str(shot) + \"[^0-9]*[0-9]{3}[^0-9].*.csv\", file_name))]\n",
    "    phils_file_names = [file_name for file_name in file_names if len(re.findall(\"(?i)s0*{:d}[^0-9]*\\.csv\".format(shot) , file_name))]\n",
    "    xray_file_names = [file_name for file_name in file_names if len(re.findall(\".*SHOT{:d}.tif\".format(shot) , file_name))]\n",
    "    filtered_file_names = kirills_file_names + phils_file_names + xray_file_names\n",
    "    ###PRINT FILE INFO\n",
    "    if not silent: # remember to do silent == True if you use read_data in a loop\n",
    "        print(\"Found {:d} files:\".format(len(filtered_file_names)))\n",
    "        [print(\"   \" + filtered_file_name) for filtered_file_name in filtered_file_names]\n",
    "    ###PUT OSCILLOSCOPE FILES INTO DICTIONARY\n",
    "    dictionary = {}\n",
    "    for phils_file_name in phils_file_names: # should only be 1 file\n",
    "        for n, column in enumerate([\"time\",\"bdot\",\"tof\",\"diode\"]): # some data files have Ch4 but it's just noise.\n",
    "            dictionary[column] = np.genfromtxt(relitive_path+phils_file_name, delimiter=',', skip_header =18, usecols=n)\n",
    "    ###PUT THZ FILES INTO DICTIONARY\n",
    "    for kirill_file_name in kirills_file_names: # should only be 2 files\n",
    "        for Ch in [\"Ch1\",\"Ch2\",\"Ch3\",\"Ch4\"]:\n",
    "            if Ch in kirill_file_name : channel = Ch # Python has got some weird ways of writing if statements.\n",
    "        dictionary[\"pyro_time\"], dictionary[channel] = np.genfromtxt(relitive_path+kirill_file_name, delimiter=',', skip_header =0, usecols=(3,4)).T\n",
    "    ###PUT XRAY FILES INTO DICTIONARY\n",
    "    for xray_file_name in xray_file_names: # should only be 2 files\n",
    "        raw = \"_raw\" if \"raw\" in xray_file_name else \"\"\n",
    "        dictionary[\"xray\" + raw] = np.array(Image.open(relitive_path+xray_file_name))\n",
    "\n",
    "    return dictionary\n",
    "\n",
    "def read_lots_of_data(shots, requested_data, silent= False): #read_data is too slow because it reads all files\n",
    "    relitive_path = \"data\\\\\"\n",
    "    file_names = os.listdir(relitive_path) # lists out the names of all files in the working directory\n",
    "    shots = np.array([str(shot) for shot in shots])\n",
    "    dictionary = {}\n",
    "    oscilloscope_data = [\"time\",\"bdot\",\"tof\",\"diode\"]\n",
    "    pyro_data = [\"Ch1\",\"Ch2\",\"Ch3\",\"Ch4\",\"pyro_time\"]\n",
    "\n",
    "    if requested_data in pyro_data:\n",
    "        channel = \"Ch1\" if requested_data == \"pyro_time\" else requested_data\n",
    "        filtered_file_names = [file_name for file_name in file_names if len(re.findall(\".*SHOT(\"+'|'.join(shots)+\")[^0-9]*[0-9]{3}[^0-9].*\"+channel+\".csv\", file_name))]\n",
    "        shot_no = [int(re.search(\".*SHOT(\"+'|'.join(shots)+\")[^0-9]*[0-9]{3}[^0-9].*\"+channel+\".csv\", filtered_file_name).group(1)) for filtered_file_name in filtered_file_names]\n",
    "        for n in range(len(filtered_file_names)):\n",
    "            dictionary[shot_no[n]] = np.genfromtxt(relitive_path+filtered_file_names[n], delimiter=',', skip_header =0, usecols= 3 if requested_data == \"pyro_time\" else 4)\n",
    "\n",
    "    elif requested_data in oscilloscope_data:\n",
    "        filtered_file_names = [file_name for file_name in file_names if len(re.findall(\"(?i)s0*(\"+'|'.join(shots)+\")[^0-9]*\\.csv\", file_name))]\n",
    "        shot_no = [int(re.search(\"(?i)s0*(\"+'|'.join(shots)+\")[^0-9]*\\.csv\", filtered_file_name).group(1)) for filtered_file_name in filtered_file_names]\n",
    "        for n in range(len(filtered_file_names)):\n",
    "            column = oscilloscope_data.index(requested_data)\n",
    "            dictionary[shot_no[n]] = np.genfromtxt(relitive_path+filtered_file_names[n], delimiter=',', skip_header =18, usecols= column)\n",
    "\n",
    "    elif requested_data in [\"xray\", \"xray_raw\"]:\n",
    "        filtered_file_names = [file_name for file_name in file_names if len(re.findall(\".*SHOT(\"+'|'.join(shots)+\").tif\", file_name))]\n",
    "        shot_no = [int(re.search(\".*SHOT(\"+'|'.join(shots)+\").tif\", filtered_file_name).group(1)) for filtered_file_name in filtered_file_names]\n",
    "        raw = [True if \"raw\" in filtered_file_name else False for filtered_file_name in filtered_file_names]\n",
    "        if requested_data == \"xray\":\n",
    "            filtered_file_names = np.array(filtered_file_names)[np.logical_not(raw)]\n",
    "        else:\n",
    "            filtered_file_names = np.array(filtered_file_names)[raw]\n",
    "        for n in range(len(filtered_file_names)): # should only be 2 files\n",
    "            dictionary[shot_no[n]] = np.array(Image.open(relitive_path+filtered_file_names[n]))\n",
    "\n",
    "    elif requested_data == \"espec\":\n",
    "        filtered_file_names = [file_name for file_name in file_names if len(re.findall(\"^IP.*.tif\", file_name))]\n",
    "        #shot number = N/A\n",
    "        for filtered_file_name in filtered_file_names: # Should be all files as the espec is related to a set of shots as opposed to a single shot.\n",
    "            dictionary[filtered_file_name] = np.array(Image.open(relitive_path+filtered_file_name))\n",
    "\n",
    "    else:\n",
    "        raise ValueError(\"{0:} is not a recognised data set\".format(requested_data))\n",
    "\n",
    "    if not silent: # remember to do silent == True if you use read_data in a loop\n",
    "        print(\"Found {:d} files:\".format(len(filtered_file_names)))\n",
    "        [print(\"   \" + filtered_file_name) for filtered_file_name in filtered_file_names]\n",
    "\n",
    "    return dictionary # dict with the shot number as keys :)\n"
   ]
  },
  {
   "cell_type": "code",
   "execution_count": 164,
   "metadata": {},
   "outputs": [
    {
     "name": "stdout",
     "output_type": "stream",
     "text": [
      "False\n",
      "False\n",
      "Found 2 files:\n",
      "   190124FOILSHOT10_000_Ch1.csv\n",
      "   190124FOILSHOT8_001_Ch1.csv\n"
     ]
    }
   ],
   "source": [
    "gentecs = read_lots_of_data([1,2,8,10,42,58], \"Ch1\")"
   ]
  },
  {
   "cell_type": "code",
   "execution_count": 165,
   "metadata": {},
   "outputs": [
    {
     "name": "stdout",
     "output_type": "stream",
     "text": [
      "Found 1 files:\n",
      "   2024 janvier 25 11_58_05 SHOT58.tif\n",
      "16375.0\n"
     ]
    }
   ],
   "source": [
    "xray_images = read_lots_of_data([1,2,8,10,42,58], \"xray\")\n",
    "xray_image = xray_images[58]\n",
    "xray_max = np.max(xray_image)\n",
    "print(xray_max)"
   ]
  },
  {
   "cell_type": "code",
   "execution_count": 166,
   "metadata": {},
   "outputs": [
    {
     "name": "stdout",
     "output_type": "stream",
     "text": [
      "Found 2 files:\n",
      "   IP_26012024.tif\n",
      "   IP_26012024_scan2.tif\n"
     ]
    }
   ],
   "source": [
    "epecs = read_lots_of_data([], \"espec\")"
   ]
  },
  {
   "cell_type": "code",
   "execution_count": 167,
   "metadata": {},
   "outputs": [
    {
     "name": "stdout",
     "output_type": "stream",
     "text": [
      "Found 3 files:\n",
      "   190124FOILSHOT8_001_Ch1.csv\n",
      "   190124FOILSHOT8_001_Ch2.csv\n",
      "   s08_ALL.csv\n"
     ]
    },
    {
     "data": {
      "text/plain": [
       "{'time': array([-1.94999641e-06, -1.94997641e-06, -1.94995641e-06, ...,\n",
       "         2.04994359e-06,  2.04996359e-06,  2.04998359e-06]),\n",
       " 'bdot': array([-0.0016125 , -0.00114688, -0.0005375 , ..., -0.000525  ,\n",
       "        -0.00089375, -0.00114062]),\n",
       " 'tof': array([-0.00554687, -0.0065625 , -0.00692188, ...,  0.00275   ,\n",
       "         0.00342188,  0.00184375]),\n",
       " 'diode': array([-0.00017656, -0.00023437, -0.00025156, ..., -0.00022188,\n",
       "        -0.00037031, -0.00049375]),\n",
       " 'pyro_time': array([-0.05    , -0.049995, -0.04999 , ...,  0.049985,  0.04999 ,\n",
       "         0.049995]),\n",
       " 'Ch1': array([ 0.23999996, -0.08000004, -0.02000004, ...,  0.03999996,\n",
       "        -0.16000004,  0.23999996]),\n",
       " 'Ch2': array([-0.036 , -0.0504, -0.0504, ..., -0.0612, -0.0612, -0.0684])}"
      ]
     },
     "execution_count": 167,
     "metadata": {},
     "output_type": "execute_result"
    }
   ],
   "source": [
    "read_data(8)"
   ]
  },
  {
   "cell_type": "code",
   "execution_count": 168,
   "metadata": {},
   "outputs": [],
   "source": [
    "shot_max = 57\n",
    "\n",
    "bdots = read_lots_of_data(np.arange(shot_max), \"bdot\", silent= True)\n",
    "bdot_max = [np.max(bdot) for bdot in bdots.values()]\n",
    "bdot_shot_no = list(bdots.keys())"
   ]
  },
  {
   "cell_type": "code",
   "execution_count": 169,
   "metadata": {},
   "outputs": [
    {
     "name": "stdout",
     "output_type": "stream",
     "text": [
      "False\n",
      "False\n",
      "False\n",
      "False\n",
      "False\n",
      "False\n",
      "False\n",
      "False\n",
      "False\n",
      "False\n",
      "False\n",
      "False\n",
      "False\n",
      "False\n",
      "False\n",
      "False\n",
      "False\n",
      "False\n",
      "False\n",
      "False\n",
      "False\n",
      "False\n",
      "False\n",
      "False\n",
      "False\n",
      "False\n",
      "False\n",
      "False\n",
      "False\n",
      "False\n",
      "False\n",
      "False\n",
      "False\n",
      "False\n",
      "Found 34 files:\n",
      "   190124FOILSHOT10_000_Ch2.csv\n",
      "   190124FOILSHOT11_000_Ch2.csv\n",
      "   190124FOILSHOT12_000_Ch2.csv\n",
      "   190124FOILSHOT13_000_Ch2.csv\n",
      "   190124FOILSHOT14_000_Ch2.csv\n",
      "   190124FOILSHOT15_000_Ch2.csv\n",
      "   190124FOILSHOT16_000_Ch2.csv\n",
      "   190124FOILSHOT17_000_Ch2.csv\n",
      "   190124FOILSHOT18_000_Ch2.csv\n",
      "   190124FOILSHOT19_000_Ch2.csv\n",
      "   190124FOILSHOT20_000_Ch2.csv\n",
      "   190124FOILSHOT20_001_Ch2.csv\n",
      "   190124FOILSHOT29000_Ch2.csv\n",
      "   190124FOILSHOT30000_Ch2.csv\n",
      "   190124FOILSHOT32000_Ch2.csv\n",
      "   190124FOILSHOT34000_Ch2.csv\n",
      "   190124FOILSHOT36000_Ch2.csv\n",
      "   190124FOILSHOT37000_Ch2.csv\n",
      "   190124FOILSHOT38000_Ch2.csv\n",
      "   190124FOILSHOT39000_Ch2.csv\n",
      "   190124FOILSHOT40000_Ch2.csv\n",
      "   190124FOILSHOT41000_Ch2.csv\n",
      "   190124FOILSHOT42000_Ch2.csv\n",
      "   190124FOILSHOT43000_Ch2.csv\n",
      "   190124FOILSHOT44000_Ch2.csv\n",
      "   190124FOILSHOT45000_Ch2.csv\n",
      "   190124FOILSHOT46000_Ch2.csv\n",
      "   190124FOILSHOT47000_Ch2.csv\n",
      "   190124FOILSHOT8_001_Ch2.csv\n",
      "   190124FOILSHOT9_001_Ch2.csv\n",
      "   190124WIRESHOT52000_Ch2.csv\n",
      "   190124WIRESHOT53000_Ch2.csv\n",
      "   190124WIRESHOT55000_Ch2.csv\n",
      "   190124WIRESHOT56000_Ch2.csv\n"
     ]
    }
   ],
   "source": [
    "pyros = read_lots_of_data(np.arange(shot_max), \"Ch2\")\n",
    "pyro_max = [np.max(pyro) for pyro in pyros.values()]\n",
    "pyro_shot_no = list(pyros.keys())"
   ]
  },
  {
   "cell_type": "code",
   "execution_count": 171,
   "metadata": {},
   "outputs": [
    {
     "data": {
      "image/png": "[encoded data removed]",
      "text/plain": [
       "<Figure size 1000x600 with 1 Axes>"
      ]
     },
     "metadata": {},
     "output_type": "display_data"
    }
   ],
   "source": [
    "plt.figure(figsize= (10,6))\n",
    "\n",
    "plt.bar(bdot_shot_no, bdot_max, color=\"blue\")\n",
    "plt.bar(pyro_shot_no, pyro_max, color=\"red\", alpha=0.5)\n",
    "\n",
    "plt.xlabel(\"shot number\")\n",
    "plt.ylabel(\"maximum bdot signal (V)\")\n",
    "\n",
    "plt.show()\n"
   ]
  },
  {
   "cell_type": "code",
   "execution_count": 172,
   "metadata": {},
   "outputs": [
    {
     "name": "stdout",
     "output_type": "stream",
     "text": [
      "Found 2 files:\n",
      "   190124FOILSHOT34000_Ch2.csv\n",
      "   s34_ALL.csv\n"
     ]
    },
    {
     "data": {
      "text/plain": [
       "{'time': array([-1.19989375e-07, -1.19969375e-07, -1.19949375e-07, ...,\n",
       "         8.79950625e-07,  8.79970625e-07,  8.79990625e-07]),\n",
       " 'bdot': array([-0.00121875, -0.00196875, -0.0025625 , ...,  0.00434375,\n",
       "         0.0035625 ,  0.00214844]),\n",
       " 'tof': array([ 0.02359375,  0.021875  ,  0.01492187, ...,  0.00125   ,\n",
       "        -0.0053125 , -0.01210938]),\n",
       " 'diode': array([-4.062500e-04, -4.046875e-04, -3.953125e-04, ...,  1.406250e-05,\n",
       "         7.812500e-06, -1.406250e-05]),\n",
       " 'pyro_time': array([-0.05    , -0.049995, -0.04999 , ...,  0.049985,  0.04999 ,\n",
       "         0.049995]),\n",
       " 'Ch2': array([0.04 , 0.032, 0.048, ..., 0.008, 0.024, 0.024])}"
      ]
     },
     "execution_count": 172,
     "metadata": {},
     "output_type": "execute_result"
    }
   ],
   "source": [
    "data = read_data(shot= 34)\n",
    "\n",
    "data"
   ]
  },
  {
   "cell_type": "code",
   "execution_count": 173,
   "metadata": {},
   "outputs": [
    {
     "name": "stdout",
     "output_type": "stream",
     "text": [
      "Found 3 files:\n",
      "   190124FOILSHOT8_001_Ch1.csv\n",
      "   190124FOILSHOT8_001_Ch2.csv\n",
      "   s08_ALL.csv\n",
      "Found 3 files:\n",
      "   190124FOILSHOT8_001_Ch1.csv\n",
      "   190124FOILSHOT8_001_Ch2.csv\n",
      "   s08_ALL.csv\n"
     ]
    },
    {
     "data": {
      "image/png": "[encoded data removed]",
      "text/plain": [
       "<Figure size 640x480 with 1 Axes>"
      ]
     },
     "metadata": {},
     "output_type": "display_data"
    }
   ],
   "source": [
    "array_time = read_data(8)[\"pyro_time\"]\n",
    "array_data = read_data(8)[\"Ch1\"]\n",
    "plt.plot(array_time, array_data)\n",
    "plt.show()"
   ]
  },
  {
   "cell_type": "code",
   "execution_count": null,
   "metadata": {},
   "outputs": [],
   "source": []
  }
 ],
 "metadata": {
  "kernelspec": {
   "display_name": "Python 3",
   "language": "python",
   "name": "python3"
  },
  "language_info": {
   "codemirror_mode": {
    "name": "ipython",
    "version": 3
   },
   "file_extension": ".py",
   "mimetype": "text/x-python",
   "name": "python",
   "nbconvert_exporter": "python",
   "pygments_lexer": "ipython3",
   "version": "3.11.7"
  }
 },
 "nbformat": 4,
 "nbformat_minor": 2
}
