{
 "cells": [
  {
   "cell_type": "code",
   "execution_count": 1,
   "metadata": {},
   "outputs": [],
   "source": [
    "######### MODULES ##########\n",
    "import sys, os, re\n",
    "import numpy as np\n",
    "import matplotlib.pyplot as plt\n",
    "from PIL import Image"
   ]
  },
  {
   "cell_type": "code",
   "execution_count": 6,
   "metadata": {},
   "outputs": [],
   "source": [
    "######## FUNCTIONS #########\n",
    "\n",
    "def read_data(shot, silent= False):\n",
    "    ###FIND MATCHING FILE NAMES\n",
    "    relitive_path = \"data\\\\\"\n",
    "    file_names = os.listdir(relitive_path) # lists out the names of all files in the working directory\n",
    "    kirills_file_names = [file_name for file_name in file_names if len(re.findall(\".*SHOT\"+ str(shot) + \"[^0-9]*[0-9]{3}[^0-9].*.csv\", file_name))]\n",
    "    phils_file_names = [file_name for file_name in file_names if len(re.findall(\"(?i)s0*{:d}[^0-9]*\\.csv\".format(shot) , file_name))]\n",
    "    xray_file_names = [file_name for file_name in file_names if len(re.findall(\".*SHOT{:d}.tif\".format(shot) , file_name))]\n",
    "    filtered_file_names = kirills_file_names + phils_file_names + xray_file_names\n",
    "    ###PRINT FILE INFO\n",
    "    if not silent: # remember to do silent == True if you use read_data in a loop\n",
    "        print(\"Found {:d} files:\".format(len(filtered_file_names)))\n",
    "        [print(\"   \" + filtered_file_name) for filtered_file_name in filtered_file_names]\n",
    "    ###PUT OSCILLOSCOPE FILES INTO DICTIONARY\n",
    "    dictionary = {}\n",
    "    for phils_file_name in phils_file_names: # should only be 1 file\n",
    "        for n, column in enumerate([\"time\",\"bdot\",\"tof\",\"diode\"]): # some data files have Ch4 but it's just noise.\n",
    "            dictionary[column] = np.genfromtxt(relitive_path+phils_file_name, delimiter=',', skip_header =18, usecols=n)\n",
    "    ###PUT THZ FILES INTO DICTIONARY\n",
    "    for kirill_file_name in kirills_file_names: # should only be 2 files\n",
    "        for Ch in [\"Ch1\",\"Ch2\",\"Ch3\",\"Ch4\"]:\n",
    "            channel = Ch if Ch in kirill_file_name\n",
    "        dictionary[\"pyro_time\"], dictionary[channel] = np.genfromtxt(relitive_path+kirill_file_name, delimiter=',', skip_header =0, usecols=(3,4)).T\n",
    "\n",
    "    ###PUT XRAY FILES INTO DICTIONARY\n",
    "    for xray_file_name in xray_file_names: # should only be 2 files\n",
    "        raw = \"_raw\" if \"raw\" in xray_file_name else \"\"\n",
    "        dictionary[\"xray\" + raw] = np.array(Image.open(relitive_path+xray_file_name))\n",
    "\n",
    "    return dictionary\n",
    "\n",
    "def read_lots_of_data(shots, requested_data, silent= False): #read_data is too slow because it reads all files\n",
    "    relitive_path = \"data\\\\\"\n",
    "    file_names = os.listdir(relitive_path) # lists out the names of all files in the working directory\n",
    "    shots = np.array([str(shot) for shot in shots])\n",
    "    dictionary = {}\n",
    "    oscilloscope_data = [\"time\",\"bdot\",\"tof\",\"diode\"]\n",
    "\n",
    "    if requested_data in [\"gentec\",\"gentec_time\"]:\n",
    "        filtered_file_names = [file_name for file_name in file_names if len(re.findall(\".*SHOT(\"+'|'.join(shots)+\")[^0-9]*[0-9]{3}[^0-9].*Ch1.csv\", file_name))]\n",
    "        for filtered_file_name in filtered_file_names:\n",
    "            dictionary[filtered_file_name] = np.genfromtxt(relitive_path+filtered_file_name, delimiter=',', skip_header =0, usecols= 3 if requested_data == \"gentec_time\" else 4)\n",
    "\n",
    "    elif requested_data in [\"custom\",\"custom_time\"]:\n",
    "        filtered_file_names = [file_name for file_name in file_names if len(re.findall(\".*SHOT(\"+'|'.join(shots)+\")[^0-9]*[0-9]{3}[^0-9].*Ch2.csv\", file_name))]\n",
    "        for filtered_file_name in filtered_file_names:\n",
    "            dictionary[filtered_file_name] = np.genfromtxt(relitive_path+filtered_file_name, delimiter=',', skip_header =0, usecols= 3 if requested_data == \"custom_time\" else 4)\n",
    "\n",
    "    elif requested_data in oscilloscope_data:\n",
    "        filtered_file_names = [file_name for file_name in file_names if len(re.findall(\"(?i)s0*(\"+'|'.join(shots)+\")[^0-9]*\\.csv\", file_name))]\n",
    "        for filtered_file_name in filtered_file_names:\n",
    "            column = oscilloscope_data.index(requested_data)\n",
    "            dictionary[filtered_file_name] = np.genfromtxt(relitive_path+filtered_file_name, delimiter=',', skip_header =18, usecols= column)\n",
    "\n",
    "    elif requested_data in [\"xray\", \"xray_raw\"]:\n",
    "        filtered_file_names = [file_name for file_name in file_names if len(re.findall(\".*SHOT(\"+'|'.join(shots)+\").tif\", file_name))]\n",
    "        raw = [True if \"raw\" in filtered_file_name else False for filtered_file_name in filtered_file_names]\n",
    "        if requested_data == \"xray\":\n",
    "            filtered_file_names = np.array(filtered_file_names)[np.logical_not(raw)]\n",
    "        else:\n",
    "            filtered_file_names = np.array(filtered_file_names)[raw]\n",
    "        for filtered_file_name in filtered_file_names: # should only be 2 files\n",
    "            dictionary[filtered_file_name] = np.array(Image.open(relitive_path+filtered_file_name))\n",
    "\n",
    "    if not silent: # remember to do silent == True if you use read_data in a loop\n",
    "        print(\"Found {:d} files:\".format(len(filtered_file_names)))\n",
    "        [print(\"   \" + filtered_file_name) for filtered_file_name in filtered_file_names]\n",
    "\n",
    "    return list(dictionary.values()) # Would be nice to have a dict the shot number as keys.\n"
   ]
  },
  {
   "cell_type": "code",
   "execution_count": 12,
   "metadata": {},
   "outputs": [
    {
     "name": "stdout",
     "output_type": "stream",
     "text": [
      "Found 1 files:\n",
      "   2024 janvier 25 11_58_05 SHOT58.tif\n",
      "13.9992075\n"
     ]
    }
   ],
   "source": [
    "xray_images = read_lots_of_data([1,2,8,10,42,58], \"xray\")\n",
    "xray_image = xray_images[0]\n",
    "xray_max = np.max(xray_image)\n",
    "print(xray_max)\n",
    "\n",
    "xray_not_saturated = xray_image[xray_image]"
   ]
  },
  {
   "cell_type": "code",
   "execution_count": 256,
   "metadata": {},
   "outputs": [
    {
     "name": "stdout",
     "output_type": "stream",
     "text": [
      "Found 3 files:\n",
      "   190124FOILSHOT8_001_Ch1.csv\n",
      "   190124FOILSHOT8_001_Ch2.csv\n",
      "   s08_ALL.csv\n"
     ]
    },
    {
     "data": {
      "text/plain": [
       "{'time': array([-1.94999641e-06, -1.94997641e-06, -1.94995641e-06, ...,\n",
       "         2.04994359e-06,  2.04996359e-06,  2.04998359e-06]),\n",
       " 'bdot': array([-0.0016125 , -0.00114688, -0.0005375 , ..., -0.000525  ,\n",
       "        -0.00089375, -0.00114062]),\n",
       " 'tof': array([-0.00554687, -0.0065625 , -0.00692188, ...,  0.00275   ,\n",
       "         0.00342188,  0.00184375]),\n",
       " 'diode': array([-0.00017656, -0.00023437, -0.00025156, ..., -0.00022188,\n",
       "        -0.00037031, -0.00049375]),\n",
       " 'gentec_time': array([-0.05    , -0.049995, -0.04999 , ...,  0.049985,  0.04999 ,\n",
       "         0.049995]),\n",
       " 'gentec': array([ 0.23999996, -0.08000004, -0.02000004, ...,  0.03999996,\n",
       "        -0.16000004,  0.23999996]),\n",
       " 'custom_time': array([-0.05    , -0.049995, -0.04999 , ...,  0.049985,  0.04999 ,\n",
       "         0.049995]),\n",
       " 'custom': array([-0.036 , -0.0504, -0.0504, ..., -0.0612, -0.0612, -0.0684])}"
      ]
     },
     "execution_count": 256,
     "metadata": {},
     "output_type": "execute_result"
    }
   ],
   "source": [
    "read_data(8)"
   ]
  },
  {
   "cell_type": "code",
   "execution_count": 199,
   "metadata": {},
   "outputs": [
    {
     "data": {
      "text/plain": [
       "array([0.04787813, 0.02772812, 0.07679375, 0.07679375, 0.101575  ,\n",
       "       0.08385937, 0.10846094, 0.10652344, 0.09017969, 0.075125  ,\n",
       "       0.05253125, 0.05023437, 0.03290625, 0.05789844, 0.03789062,\n",
       "       0.0913125 , 0.06733594, 0.11939063, 0.07310938, 0.08691406,\n",
       "       0.071375  , 0.08321094, 0.0526875 , 0.0255625 , 0.08415625,\n",
       "       0.07638281])"
      ]
     },
     "execution_count": 199,
     "metadata": {},
     "output_type": "execute_result"
    }
   ],
   "source": [
    "shot_max = 57\n",
    "\n",
    "bdot_maxs, shot_number_bdot = np.array([[np.max(read_data(shot= shot, silent= True)[\"bdot\"]), shot] for shot in np.arange(1, shot_max) if \"bdot\" in read_data(shot= shot, silent= True)]).T\n",
    "\n",
    "\n",
    "bdot_maxs"
   ]
  },
  {
   "cell_type": "code",
   "execution_count": 200,
   "metadata": {},
   "outputs": [
    {
     "ename": "ValueError",
     "evalue": "not enough values to unpack (expected 2, got 0)",
     "output_type": "error",
     "traceback": [
      "\u001b[1;31m---------------------------------------------------------------------------\u001b[0m",
      "\u001b[1;31mValueError\u001b[0m                                Traceback (most recent call last)",
      "Cell \u001b[1;32mIn[200], line 1\u001b[0m\n\u001b[1;32m----> 1\u001b[0m pyro_maxs, shot_number_pyro \u001b[38;5;241m=\u001b[39m np\u001b[38;5;241m.\u001b[39marray([[np\u001b[38;5;241m.\u001b[39mmax(read_data(shot\u001b[38;5;241m=\u001b[39m shot, silent\u001b[38;5;241m=\u001b[39m \u001b[38;5;28;01mTrue\u001b[39;00m)[\u001b[38;5;124m\"\u001b[39m\u001b[38;5;124mcustom\u001b[39m\u001b[38;5;124m\"\u001b[39m]), shot] \u001b[38;5;28;01mfor\u001b[39;00m shot \u001b[38;5;129;01min\u001b[39;00m np\u001b[38;5;241m.\u001b[39marange(\u001b[38;5;241m1\u001b[39m, shot_max) \u001b[38;5;28;01mif\u001b[39;00m \u001b[38;5;124m\"\u001b[39m\u001b[38;5;124mcustom\u001b[39m\u001b[38;5;124m\"\u001b[39m \u001b[38;5;129;01min\u001b[39;00m read_data(shot\u001b[38;5;241m=\u001b[39m shot, silent\u001b[38;5;241m=\u001b[39m \u001b[38;5;28;01mTrue\u001b[39;00m)])\u001b[38;5;241m.\u001b[39mT\n\u001b[0;32m      2\u001b[0m pyro_maxs\n",
      "\u001b[1;31mValueError\u001b[0m: not enough values to unpack (expected 2, got 0)"
     ]
    }
   ],
   "source": [
    "pyro_maxs, shot_number_pyro = np.array([[np.max(read_data(shot= shot, silent= True)[\"custom\"]), shot] for shot in np.arange(1, shot_max) if \"custom\" in read_data(shot= shot, silent= True)]).T\n",
    "pyro_maxs"
   ]
  },
  {
   "cell_type": "code",
   "execution_count": null,
   "metadata": {},
   "outputs": [
    {
     "data": {
      "image/png": "[encoded data removed]",
      "text/plain": [
       "<Figure size 1000x600 with 1 Axes>"
      ]
     },
     "metadata": {},
     "output_type": "display_data"
    }
   ],
   "source": [
    "plt.figure(figsize= (10,6))\n",
    "\n",
    "plt.bar(shot_number_bdot, bdot_maxs, color=\"blue\")\n",
    "plt.bar(shot_number_pyro, pyro_maxs, color=\"red\", alpha=0.5)\n",
    "\n",
    "plt.xlabel(\"shot number\")\n",
    "plt.ylabel(\"maximum bdot signal (V)\")\n",
    "\n",
    "plt.show()\n"
   ]
  },
  {
   "cell_type": "code",
   "execution_count": null,
   "metadata": {},
   "outputs": [
    {
     "name": "stdout",
     "output_type": "stream",
     "text": [
      "Found 2 files:\n",
      "   190124FOILSHOT34000_Ch2.csv\n",
      "   s34_ALL.csv\n"
     ]
    },
    {
     "data": {
      "text/plain": [
       "{'time': array([-1.19989375e-07, -1.19969375e-07, -1.19949375e-07, ...,\n",
       "         8.79950625e-07,  8.79970625e-07,  8.79990625e-07]),\n",
       " 'bdot': array([-0.00121875, -0.00196875, -0.0025625 , ...,  0.00434375,\n",
       "         0.0035625 ,  0.00214844]),\n",
       " 'tof': array([ 0.02359375,  0.021875  ,  0.01492187, ...,  0.00125   ,\n",
       "        -0.0053125 , -0.01210938]),\n",
       " 'diode': array([-4.062500e-04, -4.046875e-04, -3.953125e-04, ...,  1.406250e-05,\n",
       "         7.812500e-06, -1.406250e-05]),\n",
       " 'custom_time': array([-0.05    , -0.049995, -0.04999 , ...,  0.049985,  0.04999 ,\n",
       "         0.049995]),\n",
       " 'custom': array([0.04 , 0.032, 0.048, ..., 0.008, 0.024, 0.024])}"
      ]
     },
     "execution_count": 161,
     "metadata": {},
     "output_type": "execute_result"
    }
   ],
   "source": [
    "data = read_data(shot= 34)\n",
    "\n",
    "data"
   ]
  },
  {
   "cell_type": "code",
   "execution_count": null,
   "metadata": {},
   "outputs": [
    {
     "name": "stdout",
     "output_type": "stream",
     "text": [
      "Found 3 files:\n",
      "   190124FOILSHOT8_001_Ch1.csv\n",
      "   190124FOILSHOT8_001_Ch2.csv\n",
      "   s08_ALL.csv\n",
      "Found 3 files:\n",
      "   190124FOILSHOT8_001_Ch1.csv\n",
      "   190124FOILSHOT8_001_Ch2.csv\n",
      "   s08_ALL.csv\n"
     ]
    },
    {
     "data": {
      "image/png": "[encoded data removed]",
      "text/plain": [
       "<Figure size 640x480 with 1 Axes>"
      ]
     },
     "metadata": {},
     "output_type": "display_data"
    }
   ],
   "source": [
    "array_time = read_data(8)[\"gentec_time\"]\n",
    "array_data = read_data(8)[\"gentec\"]\n",
    "plt.plot(array_time, array_data)\n",
    "plt.show()"
   ]
  },
  {
   "cell_type": "code",
   "execution_count": null,
   "metadata": {},
   "outputs": [],
   "source": []
  }
 ],
 "metadata": {
  "kernelspec": {
   "display_name": "Python 3",
   "language": "python",
   "name": "python3"
  },
  "language_info": {
   "codemirror_mode": {
    "name": "ipython",
    "version": 3
   },
   "file_extension": ".py",
   "mimetype": "text/x-python",
   "name": "python",
   "nbconvert_exporter": "python",
   "pygments_lexer": "ipython3",
   "version": "3.11.7"
  }
 },
 "nbformat": 4,
 "nbformat_minor": 2
}
